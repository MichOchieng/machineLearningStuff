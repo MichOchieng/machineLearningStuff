{
 "cells": [
  {
   "cell_type": "code",
   "execution_count": 18,
   "id": "cc8d85cb",
   "metadata": {},
   "outputs": [],
   "source": [
    "import numpy as np\n",
    "import pandas as pd\n",
    "import seaborn as sns\n",
    "import matplotlib.pyplot as plt\n",
    "from sklearn.linear_model import LinearRegression\n",
    "from sklearn.metrics import mean_squared_error"
   ]
  },
  {
   "cell_type": "markdown",
   "id": "6810b4d2",
   "metadata": {},
   "source": [
    "# Setting Data"
   ]
  },
  {
   "cell_type": "code",
   "execution_count": 3,
   "id": "c49990aa",
   "metadata": {},
   "outputs": [
    {
     "data": {
      "text/html": [
       "<div>\n",
       "<style scoped>\n",
       "    .dataframe tbody tr th:only-of-type {\n",
       "        vertical-align: middle;\n",
       "    }\n",
       "\n",
       "    .dataframe tbody tr th {\n",
       "        vertical-align: top;\n",
       "    }\n",
       "\n",
       "    .dataframe thead th {\n",
       "        text-align: right;\n",
       "    }\n",
       "</style>\n",
       "<table border=\"1\" class=\"dataframe\">\n",
       "  <thead>\n",
       "    <tr style=\"text-align: right;\">\n",
       "      <th></th>\n",
       "      <th>year</th>\n",
       "      <th>model</th>\n",
       "      <th>price</th>\n",
       "      <th>mileage</th>\n",
       "      <th>color</th>\n",
       "      <th>transmission</th>\n",
       "    </tr>\n",
       "  </thead>\n",
       "  <tbody>\n",
       "    <tr>\n",
       "      <th>0</th>\n",
       "      <td>2010</td>\n",
       "      <td>SES</td>\n",
       "      <td>16995</td>\n",
       "      <td>40539</td>\n",
       "      <td>Black</td>\n",
       "      <td>AUTO</td>\n",
       "    </tr>\n",
       "    <tr>\n",
       "      <th>1</th>\n",
       "      <td>2010</td>\n",
       "      <td>SEL</td>\n",
       "      <td>15889</td>\n",
       "      <td>24920</td>\n",
       "      <td>Black</td>\n",
       "      <td>AUTO</td>\n",
       "    </tr>\n",
       "    <tr>\n",
       "      <th>2</th>\n",
       "      <td>2010</td>\n",
       "      <td>SE</td>\n",
       "      <td>15499</td>\n",
       "      <td>7784</td>\n",
       "      <td>Black</td>\n",
       "      <td>AUTO</td>\n",
       "    </tr>\n",
       "    <tr>\n",
       "      <th>3</th>\n",
       "      <td>2010</td>\n",
       "      <td>SE</td>\n",
       "      <td>15499</td>\n",
       "      <td>35636</td>\n",
       "      <td>Black</td>\n",
       "      <td>AUTO</td>\n",
       "    </tr>\n",
       "    <tr>\n",
       "      <th>4</th>\n",
       "      <td>2009</td>\n",
       "      <td>SE</td>\n",
       "      <td>14995</td>\n",
       "      <td>34419</td>\n",
       "      <td>Black</td>\n",
       "      <td>MANUAL</td>\n",
       "    </tr>\n",
       "  </tbody>\n",
       "</table>\n",
       "</div>"
      ],
      "text/plain": [
       "   year model  price  mileage  color transmission\n",
       "0  2010   SES  16995    40539  Black         AUTO\n",
       "1  2010   SEL  15889    24920  Black         AUTO\n",
       "2  2010    SE  15499     7784  Black         AUTO\n",
       "3  2010    SE  15499    35636  Black         AUTO\n",
       "4  2009    SE  14995    34419  Black       MANUAL"
      ]
     },
     "execution_count": 3,
     "metadata": {},
     "output_type": "execute_result"
    }
   ],
   "source": [
    "carData = pd.read_csv('fordFocusBlack.csv')\n",
    "carData.head()"
   ]
  },
  {
   "cell_type": "code",
   "execution_count": 7,
   "id": "b87cbfe1",
   "metadata": {},
   "outputs": [
    {
     "data": {
      "image/png": "[encoded data removed]",
      "text/plain": [
       "<Figure size 360x360 with 1 Axes>"
      ]
     },
     "metadata": {
      "needs_background": "light"
     },
     "output_type": "display_data"
    }
   ],
   "source": [
    "sns.displot(data=carData,x='price')\n",
    "plt.show()"
   ]
  },
  {
   "cell_type": "markdown",
   "id": "ae2bda1b",
   "metadata": {},
   "source": [
    "# Feature engineering"
   ]
  },
  {
   "cell_type": "code",
   "execution_count": 10,
   "id": "bd4314ad",
   "metadata": {},
   "outputs": [
    {
     "data": {
      "image/png": "[encoded data removed]",
      "text/plain": [
       "<Figure size 360x180 with 2 Axes>"
      ]
     },
     "metadata": {
      "needs_background": "light"
     },
     "output_type": "display_data"
    }
   ],
   "source": [
    "sns.pairplot(carData,x_vars=['year','mileage'],y_vars=['price'])\n",
    "plt.show()"
   ]
  },
  {
   "cell_type": "markdown",
   "id": "d78239ce",
   "metadata": {},
   "source": [
    "Price is dependent on year or mileage"
   ]
  },
  {
   "cell_type": "markdown",
   "id": "efee9595",
   "metadata": {},
   "source": [
    "# Creating linear regression model"
   ]
  },
  {
   "cell_type": "markdown",
   "id": "b84b6a25",
   "metadata": {},
   "source": [
    "$y=\\theta_0+\\theta_1 x$"
   ]
  },
  {
   "cell_type": "code",
   "execution_count": 14,
   "id": "710c7066",
   "metadata": {},
   "outputs": [
    {
     "name": "stdout",
     "output_type": "stream",
     "text": [
      "Y-Intercept:  15893.920250633702\n",
      "Slope:  -0.06579555287888011\n"
     ]
    }
   ],
   "source": [
    "features = ['mileage']\n",
    "XTrain = carData[features] # can also just have carData.mileage\n",
    "YTrain = carData.price\n",
    "\n",
    "linearModel = LinearRegression()\n",
    "linearModel.fit(XTrain.values,YTrain)\n",
    "print('Y-Intercept: ', linearModel.intercept_)\n",
    "print('Slope: ', linearModel.coef_[0])"
   ]
  },
  {
   "cell_type": "markdown",
   "id": "4bbffdf7",
   "metadata": {},
   "source": [
    "Every mile ran will decrease the cars value by ~$0.07"
   ]
  },
  {
   "cell_type": "code",
   "execution_count": 16,
   "id": "74bb73a5",
   "metadata": {},
   "outputs": [
    {
     "name": "stdout",
     "output_type": "stream",
     "text": [
      "Predicted price:  13262.098135478498\n"
     ]
    }
   ],
   "source": [
    "XTest = [[40000]]\n",
    "print('Predicted price: ', linearModel.predict(XTest)[0])"
   ]
  },
  {
   "cell_type": "code",
   "execution_count": 17,
   "id": "f4f53a8e",
   "metadata": {},
   "outputs": [
    {
     "data": {
      "image/png": "[encoded data removed]",
      "text/plain": [
       "<Figure size 360x360 with 1 Axes>"
      ]
     },
     "metadata": {
      "needs_background": "light"
     },
     "output_type": "display_data"
    }
   ],
   "source": [
    "sns.lmplot(x='mileage',y='price',data=carData,ci=0)\n",
    "plt.show()"
   ]
  },
  {
   "cell_type": "markdown",
   "id": "a453b80b",
   "metadata": {},
   "source": [
    "# Evaluating model"
   ]
  },
  {
   "cell_type": "code",
   "execution_count": 24,
   "id": "dc8d8436",
   "metadata": {},
   "outputs": [
    {
     "name": "stdout",
     "output_type": "stream",
     "text": [
      "RMSE:  1521.1660116442852\n",
      "R Squared:  0.5173793966172642\n"
     ]
    }
   ],
   "source": [
    "print('RMSE: ', np.sqrt(mean_squared_error(linearModel.predict(XTrain.values),YTrain)))\n",
    "print('R Squared: ', linearModel.score(XTrain.values,YTrain))"
   ]
  },
  {
   "cell_type": "code",
   "execution_count": null,
   "id": "08adf626",
   "metadata": {},
   "outputs": [],
   "source": []
  }
 ],
 "metadata": {
  "kernelspec": {
   "display_name": "Python 3 (ipykernel)",
   "language": "python",
   "name": "python3"
  },
  "language_info": {
   "codemirror_mode": {
    "name": "ipython",
    "version": 3
   },
   "file_extension": ".py",
   "mimetype": "text/x-python",
   "name": "python",
   "nbconvert_exporter": "python",
   "pygments_lexer": "ipython3",
   "version": "3.9.12"
  }
 },
 "nbformat": 4,
 "nbformat_minor": 5
}
