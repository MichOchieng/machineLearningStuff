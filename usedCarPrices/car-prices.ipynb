{
 "cells": [
  {
   "cell_type": "code",
   "execution_count": 1,
   "id": "95a374a5",
   "metadata": {},
   "outputs": [],
   "source": [
    "import numpy as np\n",
    "import pandas as pd\n",
    "import seaborn as sns\n",
    "import matplotlib.pyplot as plt\n",
    "from sklearn.linear_model import LinearRegression\n",
    "from sklearn.metrics import mean_squared_error\n",
    "from sklearn.preprocessing import PolynomialFeatures\n",
    "from sklearn.model_selection import train_test_split"
   ]
  },
  {
   "cell_type": "markdown",
   "id": "597f14f5",
   "metadata": {},
   "source": [
    "# Setting up data "
   ]
  },
  {
   "cell_type": "code",
   "execution_count": 2,
   "id": "5952edcf",
   "metadata": {},
   "outputs": [
    {
     "data": {
      "text/html": [
       "<div>\n",
       "<style scoped>\n",
       "    .dataframe tbody tr th:only-of-type {\n",
       "        vertical-align: middle;\n",
       "    }\n",
       "\n",
       "    .dataframe tbody tr th {\n",
       "        vertical-align: top;\n",
       "    }\n",
       "\n",
       "    .dataframe thead th {\n",
       "        text-align: right;\n",
       "    }\n",
       "</style>\n",
       "<table border=\"1\" class=\"dataframe\">\n",
       "  <thead>\n",
       "    <tr style=\"text-align: right;\">\n",
       "      <th></th>\n",
       "      <th>year</th>\n",
       "      <th>model</th>\n",
       "      <th>price</th>\n",
       "      <th>mileage</th>\n",
       "      <th>color</th>\n",
       "      <th>transmission</th>\n",
       "    </tr>\n",
       "  </thead>\n",
       "  <tbody>\n",
       "    <tr>\n",
       "      <th>0</th>\n",
       "      <td>2010</td>\n",
       "      <td>SES</td>\n",
       "      <td>16995</td>\n",
       "      <td>40539</td>\n",
       "      <td>Black</td>\n",
       "      <td>AUTO</td>\n",
       "    </tr>\n",
       "    <tr>\n",
       "      <th>1</th>\n",
       "      <td>2010</td>\n",
       "      <td>SEL</td>\n",
       "      <td>15889</td>\n",
       "      <td>24920</td>\n",
       "      <td>Black</td>\n",
       "      <td>AUTO</td>\n",
       "    </tr>\n",
       "    <tr>\n",
       "      <th>2</th>\n",
       "      <td>2010</td>\n",
       "      <td>SE</td>\n",
       "      <td>15499</td>\n",
       "      <td>7784</td>\n",
       "      <td>Black</td>\n",
       "      <td>AUTO</td>\n",
       "    </tr>\n",
       "    <tr>\n",
       "      <th>3</th>\n",
       "      <td>2010</td>\n",
       "      <td>SE</td>\n",
       "      <td>15499</td>\n",
       "      <td>35636</td>\n",
       "      <td>Black</td>\n",
       "      <td>AUTO</td>\n",
       "    </tr>\n",
       "    <tr>\n",
       "      <th>4</th>\n",
       "      <td>2009</td>\n",
       "      <td>SE</td>\n",
       "      <td>14995</td>\n",
       "      <td>34419</td>\n",
       "      <td>Black</td>\n",
       "      <td>MANUAL</td>\n",
       "    </tr>\n",
       "  </tbody>\n",
       "</table>\n",
       "</div>"
      ],
      "text/plain": [
       "   year model  price  mileage  color transmission\n",
       "0  2010   SES  16995    40539  Black         AUTO\n",
       "1  2010   SEL  15889    24920  Black         AUTO\n",
       "2  2010    SE  15499     7784  Black         AUTO\n",
       "3  2010    SE  15499    35636  Black         AUTO\n",
       "4  2009    SE  14995    34419  Black       MANUAL"
      ]
     },
     "execution_count": 2,
     "metadata": {},
     "output_type": "execute_result"
    }
   ],
   "source": [
    "carData = pd.read_csv('fordFocusBlack.csv')\n",
    "carData.head()"
   ]
  },
  {
   "cell_type": "code",
   "execution_count": 3,
   "id": "be805de4",
   "metadata": {},
   "outputs": [
    {
     "name": "stdout",
     "output_type": "stream",
     "text": [
      "The size of the car data is:  (35, 6)\n"
     ]
    },
    {
     "data": {
      "image/png": "[encoded data removed]",
      "text/plain": [
       "<Figure size 360x360 with 1 Axes>"
      ]
     },
     "metadata": {
      "needs_background": "light"
     },
     "output_type": "display_data"
    }
   ],
   "source": [
    "print('The size of the car data is: ', carData.shape)\n",
    "sns.displot(data=carData, x='price')\n",
    "plt.show()"
   ]
  },
  {
   "cell_type": "markdown",
   "id": "4a034261",
   "metadata": {},
   "source": [
    "# Feature Engineering"
   ]
  },
  {
   "cell_type": "markdown",
   "id": "92820f72",
   "metadata": {},
   "source": [
    "How is the sale price related to different attributes"
   ]
  },
  {
   "cell_type": "code",
   "execution_count": 4,
   "id": "1ff90be3",
   "metadata": {},
   "outputs": [
    {
     "data": {
      "image/png": "[encoded data removed]",
      "text/plain": [
       "<Figure size 900x180 with 5 Axes>"
      ]
     },
     "metadata": {
      "needs_background": "light"
     },
     "output_type": "display_data"
    }
   ],
   "source": [
    "sns.pairplot(carData, x_vars=['year','model','mileage','color','transmission'], y_vars='price')\n",
    "plt.show()"
   ]
  },
  {
   "cell_type": "markdown",
   "id": "0a29e6d9",
   "metadata": {},
   "source": [
    "This plot suggest price is dependent on year or mileage"
   ]
  },
  {
   "cell_type": "markdown",
   "id": "26c8b81b",
   "metadata": {},
   "source": [
    "# Creating a linear regression model based on mileage"
   ]
  },
  {
   "cell_type": "code",
   "execution_count": 5,
   "id": "4ea3ff29",
   "metadata": {},
   "outputs": [
    {
     "name": "stdout",
     "output_type": "stream",
     "text": [
      "Y intercept:  15893.920250633702\n",
      "Slope:  -0.06579555287888011\n"
     ]
    }
   ],
   "source": [
    "feature = ['mileage']\n",
    "XTrain = carData[feature]\n",
    "YTrain = carData.price\n",
    "\n",
    "linearModel = LinearRegression()\n",
    "linearModel.fit(XTrain.values,YTrain)\n",
    "\n",
    "print('Y intercept: ', linearModel.intercept_)\n",
    "print('Slope: ', linearModel.coef_[0])"
   ]
  },
  {
   "cell_type": "markdown",
   "id": "12a2b762",
   "metadata": {},
   "source": [
    "According to this model for each mile driven the price of the car will drop aprox 6-7 cents, while a new Ford Focus will cost aprox $15.9K. What will a Ford Focus with 40K miles cost approximately?"
   ]
  },
  {
   "cell_type": "code",
   "execution_count": 7,
   "id": "7b777025",
   "metadata": {},
   "outputs": [
    {
     "name": "stdout",
     "output_type": "stream",
     "text": [
      "Predicted price with 40K miles:  13262.098135478498\n"
     ]
    }
   ],
   "source": [
    "XTest = [[40000]]\n",
    "print('Predicted price with 40K miles: ', linearModel.predict(XTest)[0])"
   ]
  },
  {
   "cell_type": "code",
   "execution_count": 8,
   "id": "cf2dec8f",
   "metadata": {
    "scrolled": true
   },
   "outputs": [
    {
     "data": {
      "image/png": "[encoded data removed]",
      "text/plain": [
       "<Figure size 360x360 with 1 Axes>"
      ]
     },
     "metadata": {
      "needs_background": "light"
     },
     "output_type": "display_data"
    }
   ],
   "source": [
    "sns.lmplot(x='mileage', y='price', data=carData, ci=0)\n",
    "plt.show()"
   ]
  },
  {
   "cell_type": "markdown",
   "id": "e69fcf22",
   "metadata": {},
   "source": [
    "# Model Evaluation Metrics"
   ]
  },
  {
   "cell_type": "code",
   "execution_count": 10,
   "id": "c32d9cd0",
   "metadata": {},
   "outputs": [
    {
     "name": "stdout",
     "output_type": "stream",
     "text": [
      "RMSE:  1521.1660116442852\n",
      "R-squared:  0.5173793966172642\n"
     ]
    }
   ],
   "source": [
    "print('RMSE: ', np.sqrt(mean_squared_error(linearModel.predict(XTrain.values), YTrain)))\n",
    "print('R-squared: ', linearModel.score(XTrain.values,YTrain))"
   ]
  },
  {
   "cell_type": "markdown",
   "id": "7a272da4",
   "metadata": {},
   "source": [
    "# Linear Regression using year attribute"
   ]
  },
  {
   "cell_type": "code",
   "execution_count": 11,
   "id": "8835d624",
   "metadata": {},
   "outputs": [
    {
     "name": "stdout",
     "output_type": "stream",
     "text": [
      "Y-Intercept:  -2613477.3798586586\n",
      "Slope:  1307.3449646643116\n"
     ]
    },
    {
     "data": {
      "image/png": "[encoded data removed]",
      "text/plain": [
       "<Figure size 360x360 with 1 Axes>"
      ]
     },
     "metadata": {
      "needs_background": "light"
     },
     "output_type": "display_data"
    },
    {
     "name": "stdout",
     "output_type": "stream",
     "text": [
      "RMSE:  1278.9663123908597\n",
      "R-squared:  0.658829994195121\n"
     ]
    }
   ],
   "source": [
    "features = ['year']\n",
    "XTrain2 = carData[features]\n",
    "YTrain2 = carData.price\n",
    "\n",
    "linearModel2 = LinearRegression()\n",
    "linearModel2.fit(XTrain2.values,YTrain2)\n",
    "\n",
    "print('Y-Intercept: ', linearModel2.intercept_)\n",
    "print('Slope: ', linearModel2.coef_[0])\n",
    "\n",
    "sns.lmplot(x='year', y='price', data=carData, ci=0)\n",
    "plt.show()\n",
    "\n",
    "print('RMSE: ', np.sqrt(mean_squared_error(linearModel2.predict(XTrain2.values),YTrain2)))\n",
    "print('R-squared: ', linearModel2.score(XTrain2.values,YTrain2))"
   ]
  },
  {
   "cell_type": "markdown",
   "id": "01a9d521",
   "metadata": {},
   "source": [
    "# Testing With Silver Ford Focus Data"
   ]
  },
  {
   "cell_type": "code",
   "execution_count": 13,
   "id": "8a33e932",
   "metadata": {},
   "outputs": [
    {
     "data": {
      "image/png": "[encoded data removed]",
      "text/plain": [
       "<Figure size 424.125x360 with 1 Axes>"
      ]
     },
     "metadata": {
      "needs_background": "light"
     },
     "output_type": "display_data"
    }
   ],
   "source": [
    "newCarData = pd.read_csv('fordFocusBlackSilver.csv')\n",
    "\n",
    "features = ['mileage']\n",
    "XData = newCarData[features].values\n",
    "YData = newCarData.price\n",
    "\n",
    "sns.relplot(x='mileage',y='price', data=newCarData, ci=0, style='color', hue='color')\n",
    "plt.show()"
   ]
  },
  {
   "cell_type": "code",
   "execution_count": 14,
   "id": "1e78dcbe",
   "metadata": {},
   "outputs": [
    {
     "name": "stdout",
     "output_type": "stream",
     "text": [
      "RMSE on training data:  1765.5046876435035\n",
      "RMSE on testing data:  1851.198213354579\n"
     ]
    }
   ],
   "source": [
    "XTrain, XTest, YTrain, YTest = train_test_split(XData, YData, test_size=0.2, random_state=2)\n",
    "\n",
    "linearModel = LinearRegression()\n",
    "linearModel.fit(XTrain,YTrain)\n",
    "\n",
    "print('RMSE on training data: ',np.sqrt(mean_squared_error(linearModel.predict(XTrain),YTrain)) )\n",
    "print('RMSE on testing data: ',np.sqrt(mean_squared_error(linearModel.predict(XTest),YTest)))"
   ]
  },
  {
   "cell_type": "markdown",
   "id": "dc118c0c",
   "metadata": {},
   "source": [
    "# Polynomial Model"
   ]
  },
  {
   "cell_type": "code",
   "execution_count": null,
   "id": "1ece2e64",
   "metadata": {},
   "outputs": [],
   "source": [
    "maxDeg = 10\n",
    "\n",
    "RSquare = np.zeros(maxDeg + 1)\n",
    "RMSE = np.zeros(maxDeg + 1)\n",
    "\n",
    "for deg in range(0,maxDeg+1):\n",
    "    poly = PolynomialFeatures(degree=deg)\n",
    "    XTrans = poly.fit_transform(XTrain)\n",
    "    polyModel = LinearRegression()\n",
    "    polyModel.fit(XTrans,YTrain)\n",
    "    \n",
    "    XTestTrans = poly.fit_transform(XTest)\n",
    "    print('\\nPolynomial regression with degree ', deg, ':')\n",
    "    RSquare[deg] = polyModel.score(XTestTrans,YTest)\n",
    "    print('R-squared value: ', RSquare[deg])\n",
    "    RMSE[deg] = np.sqrt(mean_squared_error(polyModel.predict(XTestTrans),YTest))\n",
    "    print('RMSE: ', RMSE[deg])\n",
    "plt.plot(range(0,maxDeg + 1), RMSE, 'x')\n",
    "plt.title('RMSE v Polynomial degree')\n",
    "plt.xlabel('Degree')\n",
    "plt.ylabel('RMSE with Tes')"
   ]
  }
 ],
 "metadata": {
  "kernelspec": {
   "display_name": "Python 3 (ipykernel)",
   "language": "python",
   "name": "python3"
  },
  "language_info": {
   "codemirror_mode": {
    "name": "ipython",
    "version": 3
   },
   "file_extension": ".py",
   "mimetype": "text/x-python",
   "name": "python",
   "nbconvert_exporter": "python",
   "pygments_lexer": "ipython3",
   "version": "3.9.12"
  }
 },
 "nbformat": 4,
 "nbformat_minor": 5
}
